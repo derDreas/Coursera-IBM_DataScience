{
 "cells": [
  {
   "cell_type": "markdown",
   "id": "b7215429-2a82-4531-9e56-222b7df566a2",
   "metadata": {},
   "source": [
    "# Data Science Project\n"
   ]
  },
  {
   "cell_type": "markdown",
   "id": "d93aaab4-6c46-4820-8c25-90e44ef7e7d4",
   "metadata": {
    "jp-MarkdownHeadingCollapsed": true
   },
   "source": [
    "## Introduction\r\n",
    "This notebookcreated by Derza Andreas using jupyter notebook. This notebook contain information about data science.\r\n"
   ]
  },
  {
   "cell_type": "markdown",
   "id": "51dce8d4-81a8-469a-9fb3-dbac3fcf0f89",
   "metadata": {},
   "source": [
    "## Data Science Languages\n",
    "- Python\n",
    "- R\n",
    "- Julia"
   ]
  },
  {
   "cell_type": "markdown",
   "id": "689817a0-a878-4d2e-9bc8-1b581df55c0b",
   "metadata": {},
   "source": [
    "## Data Science Libraries\r\n",
    "- NumPy\r\n",
    "- Pandas\r\n",
    "- Scikit-learn\r\n",
    "rn\n"
   ]
  },
  {
   "cell_type": "markdown",
   "id": "cfca871a-6f56-41f4-a9df-f99e899a430d",
   "metadata": {},
   "source": [
    "## Data Science Tools\r\n",
    "\r\n",
    "| Tool             | Description                              |\r\n",
    "|------------------|------------------------------------------|\r\n",
    "| Jupyter Notebook | Interactive coding environment            |\r\n",
    "| TensorFlow      | Machine learning framework                |\r\n",
    "| Tableau          | Data visualization tool                   |\r\n",
    "    |\r\n",
    "l  "
   ]
  },
  {
   "cell_type": "markdown",
   "id": "66cfa75b-31e8-4f8a-802e-93ce9508d7f2",
   "metadata": {},
   "source": [
    "### Arithmetic Expression"
   ]
  },
  {
   "cell_type": "code",
   "execution_count": 2,
   "id": "a50d5e30-6340-4acc-9802-12e6392e916d",
   "metadata": {
    "scrolled": true
   },
   "outputs": [
    {
     "data": {
      "text/plain": [
       "12"
      ]
     },
     "execution_count": 2,
     "metadata": {},
     "output_type": "execute_result"
    }
   ],
   "source": [
    "2 + 10"
   ]
  },
  {
   "cell_type": "markdown",
   "id": "91b14bc4-9a24-431a-8d7d-4ca165ef4a08",
   "metadata": {},
   "source": [
    "### Multiply and Add Numbers"
   ]
  },
  {
   "cell_type": "code",
   "execution_count": null,
   "id": "8366ad4f-fec7-4268-b05d-f40036de6058",
   "metadata": {},
   "outputs": [],
   "source": [
    "a = 5\n",
    "b = 10\n",
    "result_multiply = a * b\n",
    "result_add = a + b\n",
    "print(\"Multiplication Result:\", result_multiply)\n",
    "print(\"Addition Result:\", result_add)"
   ]
  },
  {
   "cell_type": "code",
   "execution_count": 4,
   "id": "ae2c2cb2-cbb4-46a5-8afa-9eb75af41dfb",
   "metadata": {},
   "outputs": [
    {
     "name": "stdout",
     "output_type": "stream",
     "text": [
      "Hours: 2.0\n"
     ]
    }
   ],
   "source": [
    "minutes = 120\n",
    "hours = minutes / 60\n",
    "print(\"Hours:\", hours)"
   ]
  },
  {
   "cell_type": "markdown",
   "id": "8da2f81a-aec4-45e7-9446-797b875de19a",
   "metadata": {},
   "source": [
    "## Objectives\n",
    "- Learn about data science languages and libraries.\n",
    "- Understand the basics of arithmetic expressions.\n",
    "- Perform mathematical calculations using Python."
   ]
  },
  {
   "cell_type": "markdown",
   "id": "53732c3e-c00a-4b8e-b473-717e102c0c55",
   "metadata": {},
   "source": [
    "## Author\n",
    "This notebook was created by Derza Andreas."
   ]
  },
  {
   "cell_type": "markdown",
   "id": "631cab97-2dd6-434a-a9ed-0d2aad12b270",
   "metadata": {},
   "source": [
    "## Notebook Sharing\n",
    "To share this notebook, you can upload it to a version control platform like GitHub and provide the link to others.\n"
   ]
  },
  {
   "cell_type": "code",
   "execution_count": null,
   "id": "8b7c3535-3598-4edc-9a96-628cf489537d",
   "metadata": {},
   "outputs": [],
   "source": []
  }
 ],
 "metadata": {
  "kernelspec": {
   "display_name": "Python 3 (ipykernel)",
   "language": "python",
   "name": "python3"
  },
  "language_info": {
   "codemirror_mode": {
    "name": "ipython",
    "version": 3
   },
   "file_extension": ".py",
   "mimetype": "text/x-python",
   "name": "python",
   "nbconvert_exporter": "python",
   "pygments_lexer": "ipython3",
   "version": "3.11.3"
  }
 },
 "nbformat": 4,
 "nbformat_minor": 5
}
